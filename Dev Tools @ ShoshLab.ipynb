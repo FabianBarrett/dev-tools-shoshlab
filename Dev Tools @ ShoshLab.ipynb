{
 "cells": [
  {
   "cell_type": "markdown",
   "id": "ddbbd560",
   "metadata": {},
   "source": [
    "**TODO:**\n",
    "1. Aggregate topics\n",
    "2. Get Binder working\n",
    "3. Flesh out concrete content e.g. testing, linting, etc.\n",
    "4. Come up with some tasks that require active engagement"
   ]
  },
  {
   "cell_type": "code",
   "execution_count": 1,
   "id": "90f700f0",
   "metadata": {},
   "outputs": [
    {
     "name": "stdout",
     "output_type": "stream",
     "text": [
      "Traceback (most recent call last):\r\n",
      "  File \"/Users/benbarrett/opt/miniconda3/envs/dev-tools-shoshlab/bin/jupyter-contrib\", line 10, in <module>\r\n",
      "    sys.exit(main())\r\n",
      "  File \"/Users/benbarrett/opt/miniconda3/envs/dev-tools-shoshlab/lib/python3.9/site-packages/jupyter_core/application.py\", line 277, in launch_instance\r\n",
      "    return super().launch_instance(argv=argv, **kwargs)\r\n",
      "  File \"/Users/benbarrett/opt/miniconda3/envs/dev-tools-shoshlab/lib/python3.9/site-packages/traitlets/config/application.py\", line 1041, in launch_instance\r\n",
      "    app = cls.instance(**kwargs)\r\n",
      "  File \"/Users/benbarrett/opt/miniconda3/envs/dev-tools-shoshlab/lib/python3.9/site-packages/traitlets/config/configurable.py\", line 551, in instance\r\n",
      "    inst = cls(*args, **kwargs)\r\n",
      "  File \"/Users/benbarrett/opt/miniconda3/envs/dev-tools-shoshlab/lib/python3.9/site-packages/jupyter_contrib_core/application.py\", line 27, in __init__\r\n",
      "    self._refresh_subcommands()\r\n",
      "  File \"/Users/benbarrett/opt/miniconda3/envs/dev-tools-shoshlab/lib/python3.9/site-packages/jupyter_contrib_core/application.py\", line 43, in _refresh_subcommands\r\n",
      "    get_subcommands_dict = entrypoint.load()\r\n",
      "  File \"/Users/benbarrett/opt/miniconda3/envs/dev-tools-shoshlab/lib/python3.9/site-packages/pkg_resources/__init__.py\", line 2476, in load\r\n",
      "    self.require(*args, **kwargs)\r\n",
      "  File \"/Users/benbarrett/opt/miniconda3/envs/dev-tools-shoshlab/lib/python3.9/site-packages/pkg_resources/__init__.py\", line 2499, in require\r\n",
      "    items = working_set.resolve(reqs, env, installer, extras=self.extras)\r\n",
      "  File \"/Users/benbarrett/opt/miniconda3/envs/dev-tools-shoshlab/lib/python3.9/site-packages/pkg_resources/__init__.py\", line 815, in resolve\r\n",
      "    dist = self._resolve_dist(\r\n",
      "  File \"/Users/benbarrett/opt/miniconda3/envs/dev-tools-shoshlab/lib/python3.9/site-packages/pkg_resources/__init__.py\", line 856, in _resolve_dist\r\n",
      "    raise DistributionNotFound(req, requirers)\r\n",
      "pkg_resources.DistributionNotFound: The 'uri-template; extra == \"format-nongpl\"' distribution was not found and is required by jsonschema\r\n"
     ]
    }
   ],
   "source": [
    "# Allows Jupyter Notebook extensions to be activated\n",
    "!jupyter contrib nbextension install --user"
   ]
  },
  {
   "cell_type": "code",
   "execution_count": 8,
   "id": "3fd86136",
   "metadata": {},
   "outputs": [],
   "source": [
    "import pytest"
   ]
  },
  {
   "cell_type": "markdown",
   "id": "0a0ba64b",
   "metadata": {},
   "source": [
    "## Topic 1: Testing (Using `pytest` As An Example)"
   ]
  },
  {
   "cell_type": "markdown",
   "id": "16a37f7a",
   "metadata": {},
   "source": [
    "TODO:\n",
    "1. Show some simple examples (using common patterns e.g. catching errors, validating outputs exactly)\n",
    "2. Show how to run from the command-line \n",
    "3. Set up a task that requires more complicated work (e.g.  Monte Carlo estimation --> validate approximately)"
   ]
  },
  {
   "cell_type": "markdown",
   "id": "e5a55806",
   "metadata": {},
   "source": [
    "**TODO**: Figure out how to best run `pytest` tests."
   ]
  },
  {
   "cell_type": "code",
   "execution_count": 9,
   "id": "f40d0fce",
   "metadata": {},
   "outputs": [],
   "source": [
    "def validate_type(_input):\n",
    "    return type(_input) in (int, float)\n",
    "\n",
    "# Writes a test for basic addition\n",
    "def x_plus_y(x, y):\n",
    "    return x + y\n",
    "\n",
    "def x_plus_y_errorhandling(x, y):\n",
    "    if validate_type(x) and validate_type(y):\n",
    "        return x + y\n",
    "    else:\n",
    "        raise TypeError(\"Input types do not have the appropriate types for addition.\")"
   ]
  },
  {
   "cell_type": "code",
   "execution_count": 10,
   "id": "faf87d05",
   "metadata": {},
   "outputs": [],
   "source": [
    "def test_x_plus_y_basic(x, y):\n",
    "    assert x_plus_y(x, y) == 4"
   ]
  },
  {
   "cell_type": "code",
   "execution_count": 11,
   "id": "09a4679a",
   "metadata": {},
   "outputs": [],
   "source": [
    "@pytest.mark.parametrize(\"x, y, expected_result\", [(2, 2, 4), (2, 3, 5)])\n",
    "def test_x_plus_y_less_basic(x, y, expected_result):\n",
    "    assert x_plus_y(x, y) == expected_result"
   ]
  },
  {
   "cell_type": "code",
   "execution_count": null,
   "id": "c6207c99",
   "metadata": {},
   "outputs": [],
   "source": [
    "@pytest.mark.parametrize(\"x, y\", [(2, \"2\")])\n",
    "def test_x_plus_y_even_less_basic(x, y):\n",
    "    with pytest.raises(TypeError):\n",
    "        x_plus_y_errorhandling(x, y)"
   ]
  },
  {
   "cell_type": "code",
   "execution_count": 13,
   "id": "202bda7f",
   "metadata": {},
   "outputs": [
    {
     "name": "stdout",
     "output_type": "stream",
     "text": [
      "\u001b[1m============================= test session starts ==============================\u001b[0m\n",
      "platform darwin -- Python 3.9.16, pytest-7.2.1, pluggy-1.0.0\n",
      "rootdir: /Users/benbarrett/Desktop/dev-tools-shoshlab\n",
      "plugins: anyio-3.6.2\n",
      "collected 0 items                                                              \u001b[0m\n",
      "\n",
      "\u001b[33m============================ \u001b[33mno tests ran\u001b[0m\u001b[33m in 0.03s\u001b[0m\u001b[33m =============================\u001b[0m\n"
     ]
    }
   ],
   "source": [
    "# Runs things in the shell\n",
    "!pytest"
   ]
  },
  {
   "cell_type": "markdown",
   "id": "9d6a79fe",
   "metadata": {},
   "source": [
    "## Topic 2: Automatically Prettifying Code"
   ]
  },
  {
   "cell_type": "markdown",
   "id": "0c816dc1",
   "metadata": {},
   "source": [
    "E.g.:\n",
    "* `black`\n",
    "* `ruff`\n",
    "* `isort`\n",
    "\n",
    "Show formatting in action + mention e.g. `styler`."
   ]
  },
  {
   "cell_type": "markdown",
   "id": "92836890",
   "metadata": {},
   "source": [
    "## Topic 3: \"The Art of Readable Code\""
   ]
  },
  {
   "cell_type": "markdown",
   "id": "c96c078d",
   "metadata": {},
   "source": [
    "TODO: Look up Peter Zsohar materials."
   ]
  },
  {
   "cell_type": "markdown",
   "id": "0f9d0848",
   "metadata": {},
   "source": [
    "## Further Materials / Recommended Reading"
   ]
  },
  {
   "cell_type": "markdown",
   "id": "44ca9cc1",
   "metadata": {},
   "source": [
    "Link to:\n",
    "* The Missing Semester Of Your CS Education\n",
    "* \"The Art of Readable Code\""
   ]
  }
 ],
 "metadata": {
  "kernelspec": {
   "display_name": "Python 3 (ipykernel)",
   "language": "python",
   "name": "python3"
  },
  "language_info": {
   "codemirror_mode": {
    "name": "ipython",
    "version": 3
   },
   "file_extension": ".py",
   "mimetype": "text/x-python",
   "name": "python",
   "nbconvert_exporter": "python",
   "pygments_lexer": "ipython3",
   "version": "3.9.16"
  }
 },
 "nbformat": 4,
 "nbformat_minor": 5
}
